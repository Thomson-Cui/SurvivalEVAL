{
 "cells": [
  {
   "cell_type": "markdown",
   "source": [
    "# Evaluation for Pycox model\n",
    "\n",
    "In this notebook we introduce the use of `PycoxEvaluator` in the package through an example dataset and a model.\n",
    "The first half of this notebook follows the procedure described in the Pycox [example](https://github.com/havakv/pycox/blob/master/examples/01_introduction.ipynb).\n",
    "\n",
    "In the following we will:\n",
    "\n",
    "1. Load the METABRIC survival dataset and create a `LogisticHazard` model;\n",
    "2. Train the model using training set;\n",
    "3. Evaluate the performance using the concordance index, Brier score, Integrated Brier score, L1 loss, 1-calibration, and D-calibration."
   ],
   "metadata": {
    "collapsed": false,
    "pycharm": {
     "name": "#%% md\n"
    }
   }
  },
  {
   "cell_type": "markdown",
   "source": [
    "## Import Dependencies\n",
    "Note: You need `sklearn-pandas` for normalizing the data."
   ],
   "metadata": {
    "collapsed": false,
    "pycharm": {
     "name": "#%% md\n"
    }
   }
  },
  {
   "cell_type": "code",
   "execution_count": 1,
   "metadata": {
    "collapsed": true
   },
   "outputs": [],
   "source": [
    "import numpy as np\n",
    "import matplotlib.pyplot as plt\n",
    "\n",
    "# For preprocessing\n",
    "from sklearn.preprocessing import StandardScaler\n",
    "from sklearn_pandas import DataFrameMapper\n",
    "\n",
    "import torch # For building the networks\n",
    "import torchtuples as tt # Some useful functions\n",
    "\n",
    "from pycox.datasets import metabric\n",
    "from pycox.models import LogisticHazard\n",
    "\n",
    "from Evaluator import PycoxEvaluator"
   ]
  },
  {
   "cell_type": "code",
   "execution_count": 2,
   "outputs": [],
   "source": [
    "%matplotlib inline"
   ],
   "metadata": {
    "collapsed": false,
    "pycharm": {
     "name": "#%%\n"
    }
   }
  },
  {
   "cell_type": "markdown",
   "source": [
    "## Load Dataset\n",
    "Set seed for torch and numpy for reproducibility"
   ],
   "metadata": {
    "collapsed": false,
    "pycharm": {
     "name": "#%% md\n"
    }
   }
  },
  {
   "cell_type": "code",
   "execution_count": 3,
   "outputs": [],
   "source": [
    "np.random.seed(1234)\n",
    "_ = torch.manual_seed(123)"
   ],
   "metadata": {
    "collapsed": false,
    "pycharm": {
     "name": "#%%\n"
    }
   }
  },
  {
   "cell_type": "markdown",
   "source": [
    "Load the dataset, split it into training (64%), validation (16%) and testing set (20%).\n",
    "Then standardize the covariates."
   ],
   "metadata": {
    "collapsed": false,
    "pycharm": {
     "name": "#%% md\n"
    }
   }
  },
  {
   "cell_type": "code",
   "execution_count": 4,
   "outputs": [],
   "source": [
    "df_train = metabric.read_df()\n",
    "df_test = df_train.sample(frac=0.2)\n",
    "df_train = df_train.drop(df_test.index)\n",
    "df_val = df_train.sample(frac=0.2)\n",
    "df_train = df_train.drop(df_val.index)\n",
    "\n",
    "cols_standardize = ['x0', 'x1', 'x2', 'x3', 'x8']\n",
    "cols_leave = ['x4', 'x5', 'x6', 'x7']\n",
    "\n",
    "standardize = [([col], StandardScaler()) for col in cols_standardize]\n",
    "leave = [(col, None) for col in cols_leave]\n",
    "\n",
    "x_mapper = DataFrameMapper(standardize + leave)\n",
    "\n",
    "x_train = x_mapper.fit_transform(df_train).astype('float32')\n",
    "x_val = x_mapper.transform(df_val).astype('float32')\n",
    "x_test = x_mapper.transform(df_test).astype('float32')"
   ],
   "metadata": {
    "collapsed": false,
    "pycharm": {
     "name": "#%%\n"
    }
   }
  },
  {
   "cell_type": "markdown",
   "source": [
    "## Build the model and train it."
   ],
   "metadata": {
    "collapsed": false,
    "pycharm": {
     "name": "#%% md\n"
    }
   }
  },
  {
   "cell_type": "code",
   "execution_count": 5,
   "outputs": [
    {
     "name": "stdout",
     "output_type": "stream",
     "text": [
      "0:\t[0s / 0s],\t\ttrain_loss: 2.9332,\tval_loss: 2.7593\n",
      "1:\t[0s / 0s],\t\ttrain_loss: 2.6493,\tval_loss: 2.5245\n",
      "2:\t[0s / 0s],\t\ttrain_loss: 2.3807,\tval_loss: 2.2181\n",
      "3:\t[0s / 0s],\t\ttrain_loss: 2.0595,\tval_loss: 1.8908\n",
      "4:\t[0s / 0s],\t\ttrain_loss: 1.7514,\tval_loss: 1.6019\n",
      "5:\t[0s / 0s],\t\ttrain_loss: 1.5335,\tval_loss: 1.4371\n",
      "6:\t[0s / 0s],\t\ttrain_loss: 1.4379,\tval_loss: 1.3759\n",
      "7:\t[0s / 0s],\t\ttrain_loss: 1.3954,\tval_loss: 1.3658\n",
      "8:\t[0s / 0s],\t\ttrain_loss: 1.3906,\tval_loss: 1.3619\n",
      "9:\t[0s / 0s],\t\ttrain_loss: 1.3730,\tval_loss: 1.3531\n",
      "10:\t[0s / 0s],\t\ttrain_loss: 1.3605,\tval_loss: 1.3486\n",
      "11:\t[0s / 0s],\t\ttrain_loss: 1.3349,\tval_loss: 1.3513\n",
      "12:\t[0s / 0s],\t\ttrain_loss: 1.3153,\tval_loss: 1.3488\n",
      "13:\t[0s / 0s],\t\ttrain_loss: 1.3133,\tval_loss: 1.3418\n",
      "14:\t[0s / 0s],\t\ttrain_loss: 1.2988,\tval_loss: 1.3432\n",
      "15:\t[0s / 0s],\t\ttrain_loss: 1.3079,\tval_loss: 1.3525\n",
      "16:\t[0s / 0s],\t\ttrain_loss: 1.2976,\tval_loss: 1.3565\n",
      "17:\t[0s / 0s],\t\ttrain_loss: 1.2918,\tval_loss: 1.3577\n",
      "18:\t[0s / 0s],\t\ttrain_loss: 1.2900,\tval_loss: 1.3594\n",
      "19:\t[0s / 0s],\t\ttrain_loss: 1.2888,\tval_loss: 1.3655\n",
      "20:\t[0s / 0s],\t\ttrain_loss: 1.2871,\tval_loss: 1.3675\n",
      "21:\t[0s / 0s],\t\ttrain_loss: 1.2807,\tval_loss: 1.3648\n",
      "22:\t[0s / 0s],\t\ttrain_loss: 1.2920,\tval_loss: 1.3633\n",
      "23:\t[0s / 0s],\t\ttrain_loss: 1.2735,\tval_loss: 1.3681\n"
     ]
    }
   ],
   "source": [
    "num_durations = 10\n",
    "\n",
    "labtrans = LogisticHazard.label_transform(num_durations)\n",
    "\n",
    "get_target = lambda df: (df['duration'].values, df['event'].values)\n",
    "y_train = labtrans.fit_transform(*get_target(df_train))\n",
    "y_val = labtrans.transform(*get_target(df_val))\n",
    "\n",
    "train = (x_train, y_train)\n",
    "val = (x_val, y_val)\n",
    "\n",
    "# We don't need to transform the test labels\n",
    "durations_test, events_test = get_target(df_test)\n",
    "durations_train, events_train = get_target(df_train)\n",
    "\n",
    "in_features = x_train.shape[1]\n",
    "num_nodes = [32, 32]\n",
    "out_features = labtrans.out_features\n",
    "batch_norm = True\n",
    "dropout = 0.1\n",
    "\n",
    "net = tt.practical.MLPVanilla(in_features, num_nodes, out_features, batch_norm, dropout)\n",
    "\n",
    "model = LogisticHazard(net, tt.optim.Adam(0.01), duration_index=labtrans.cuts)\n",
    "\n",
    "batch_size = 256\n",
    "epochs = 100\n",
    "callbacks = [tt.cb.EarlyStopping()]\n",
    "\n",
    "log = model.fit(x_train, y_train, batch_size, epochs, callbacks, val_data=val)"
   ],
   "metadata": {
    "collapsed": false,
    "pycharm": {
     "name": "#%%\n"
    }
   }
  },
  {
   "cell_type": "markdown",
   "source": [
    "## Make the prediction.\n",
    "`surv` is a Dataframe object. Row index represents the time coordinates, and each column represents a survival curve of one patient."
   ],
   "metadata": {
    "collapsed": false,
    "pycharm": {
     "name": "#%% md\n"
    }
   }
  },
  {
   "cell_type": "code",
   "execution_count": 6,
   "outputs": [
    {
     "data": {
      "text/plain": "                0         1         2         3         4         5    \\\n0.000000   0.997888  0.998990  0.977142  0.996769  0.996701  0.997470   \n3.946667   0.990678  0.977079  0.967224  0.988112  0.975188  0.992005   \n7.893333   0.983467  0.955168  0.957305  0.979455  0.953674  0.986539   \n11.840000  0.976257  0.933257  0.947387  0.970799  0.932161  0.981074   \n15.786667  0.969046  0.911346  0.937468  0.962142  0.910647  0.975609   \n19.733334  0.961836  0.889435  0.927550  0.953485  0.889133  0.970144   \n23.680000  0.954625  0.867524  0.917631  0.944828  0.867620  0.964679   \n27.626667  0.947415  0.845613  0.907713  0.936171  0.846106  0.959213   \n31.573334  0.940204  0.823702  0.897794  0.927515  0.824592  0.953748   \n35.520000  0.932994  0.801792  0.887876  0.918858  0.803079  0.948283   \n39.466667  0.925783  0.779881  0.877957  0.910201  0.781565  0.942818   \n43.413334  0.902162  0.762350  0.862645  0.897250  0.754873  0.931251   \n47.360001  0.878541  0.744820  0.847333  0.884298  0.728181  0.919684   \n51.306667  0.854920  0.727290  0.832021  0.871347  0.701489  0.908117   \n55.253334  0.831299  0.709760  0.816709  0.858395  0.674797  0.896550   \n59.200001  0.807678  0.692230  0.801397  0.845444  0.648105  0.884983   \n63.146667  0.784057  0.674700  0.786085  0.832492  0.621412  0.873416   \n67.093334  0.760436  0.657170  0.770774  0.819541  0.594720  0.861849   \n71.040001  0.736815  0.639639  0.755462  0.806590  0.568028  0.850281   \n74.986668  0.713194  0.622109  0.740150  0.793638  0.541336  0.838714   \n\n                6         7         8         9    ...       371       372  \\\n0.000000   0.998884  0.999274  0.999061  0.996440  ...  0.994224  0.994715   \n3.946667   0.997279  0.998690  0.972076  0.938016  ...  0.982216  0.967455   \n7.893333   0.995674  0.998106  0.945092  0.879592  ...  0.970207  0.940196   \n11.840000  0.994069  0.997523  0.918107  0.821168  ...  0.958198  0.912936   \n15.786667  0.992463  0.996939  0.891123  0.762744  ...  0.946189  0.885676   \n19.733334  0.990858  0.996355  0.864138  0.704320  ...  0.934180  0.858417   \n23.680000  0.989253  0.995771  0.837154  0.645896  ...  0.922171  0.831157   \n27.626667  0.987647  0.995187  0.810169  0.587472  ...  0.910162  0.803898   \n31.573334  0.986042  0.994603  0.783184  0.529048  ...  0.898154  0.776638   \n35.520000  0.984437  0.994019  0.756200  0.470624  ...  0.886145  0.749378   \n39.466667  0.982831  0.993435  0.729215  0.412200  ...  0.874136  0.722119   \n43.413334  0.978628  0.991024  0.685955  0.395379  ...  0.863165  0.693594   \n47.360001  0.974425  0.988613  0.642695  0.378557  ...  0.852194  0.665070   \n51.306667  0.970222  0.986202  0.599434  0.361736  ...  0.841223  0.636546   \n55.253334  0.966018  0.983791  0.556174  0.344915  ...  0.830252  0.608021   \n59.200001  0.961815  0.981379  0.512914  0.328093  ...  0.819281  0.579497   \n63.146667  0.957612  0.978968  0.469653  0.311272  ...  0.808310  0.550973   \n67.093334  0.953409  0.976557  0.426393  0.294451  ...  0.797339  0.522448   \n71.040001  0.949205  0.974146  0.383133  0.277629  ...  0.786368  0.493924   \n74.986668  0.945002  0.971735  0.339872  0.260808  ...  0.775397  0.465400   \n\n                373       374       375       376       377       378  \\\n0.000000   0.996657  0.997932  0.996396  0.995586  0.997912  0.999046   \n3.946667   0.982801  0.995717  0.985402  0.985974  0.988225  0.964453   \n7.893333   0.968944  0.993502  0.974408  0.976363  0.978538  0.929859   \n11.840000  0.955088  0.991287  0.963414  0.966751  0.968852  0.895265   \n15.786667  0.941231  0.989071  0.952420  0.957139  0.959165  0.860672   \n19.733334  0.927375  0.986856  0.941425  0.947527  0.949479  0.826078   \n23.680000  0.913518  0.984641  0.930431  0.937916  0.939792  0.791485   \n27.626667  0.899662  0.982426  0.919437  0.928304  0.930105  0.756891   \n31.573334  0.885805  0.980211  0.908443  0.918692  0.920419  0.722297   \n35.520000  0.871949  0.977995  0.897449  0.909080  0.910732  0.687704   \n39.466667  0.858092  0.975780  0.886455  0.899468  0.901046  0.653110   \n43.413334  0.843046  0.970013  0.866816  0.889183  0.879391  0.608128   \n47.360001  0.828001  0.964245  0.847177  0.878898  0.857737  0.563145   \n51.306667  0.812955  0.958478  0.827538  0.868613  0.836082  0.518163   \n55.253334  0.797909  0.952711  0.807900  0.858328  0.814428  0.473180   \n59.200001  0.782863  0.946943  0.788261  0.848043  0.792773  0.428198   \n63.146667  0.767817  0.941176  0.768622  0.837758  0.771119  0.383215   \n67.093334  0.752771  0.935408  0.748983  0.827473  0.749465  0.338232   \n71.040001  0.737726  0.929641  0.729344  0.817188  0.727810  0.293250   \n74.986668  0.722680  0.923874  0.709706  0.806903  0.706156  0.248267   \n\n                379       380  \n0.000000   0.998036  0.987776  \n3.946667   0.974502  0.965598  \n7.893333   0.950968  0.943420  \n11.840000  0.927434  0.921242  \n15.786667  0.903900  0.899064  \n19.733334  0.880365  0.876886  \n23.680000  0.856831  0.854708  \n27.626667  0.833297  0.832530  \n31.573334  0.809763  0.810351  \n35.520000  0.786229  0.788173  \n39.466667  0.762695  0.765995  \n43.413334  0.742316  0.744343  \n47.360001  0.721937  0.722690  \n51.306667  0.701558  0.701038  \n55.253334  0.681179  0.679385  \n59.200001  0.660800  0.657733  \n63.146667  0.640420  0.636080  \n67.093334  0.620041  0.614428  \n71.040001  0.599662  0.592775  \n74.986668  0.579283  0.571123  \n\n[20 rows x 381 columns]",
      "text/html": "<div>\n<style scoped>\n    .dataframe tbody tr th:only-of-type {\n        vertical-align: middle;\n    }\n\n    .dataframe tbody tr th {\n        vertical-align: top;\n    }\n\n    .dataframe thead th {\n        text-align: right;\n    }\n</style>\n<table border=\"1\" class=\"dataframe\">\n  <thead>\n    <tr style=\"text-align: right;\">\n      <th></th>\n      <th>0</th>\n      <th>1</th>\n      <th>2</th>\n      <th>3</th>\n      <th>4</th>\n      <th>5</th>\n      <th>6</th>\n      <th>7</th>\n      <th>8</th>\n      <th>9</th>\n      <th>...</th>\n      <th>371</th>\n      <th>372</th>\n      <th>373</th>\n      <th>374</th>\n      <th>375</th>\n      <th>376</th>\n      <th>377</th>\n      <th>378</th>\n      <th>379</th>\n      <th>380</th>\n    </tr>\n  </thead>\n  <tbody>\n    <tr>\n      <th>0.000000</th>\n      <td>0.997888</td>\n      <td>0.998990</td>\n      <td>0.977142</td>\n      <td>0.996769</td>\n      <td>0.996701</td>\n      <td>0.997470</td>\n      <td>0.998884</td>\n      <td>0.999274</td>\n      <td>0.999061</td>\n      <td>0.996440</td>\n      <td>...</td>\n      <td>0.994224</td>\n      <td>0.994715</td>\n      <td>0.996657</td>\n      <td>0.997932</td>\n      <td>0.996396</td>\n      <td>0.995586</td>\n      <td>0.997912</td>\n      <td>0.999046</td>\n      <td>0.998036</td>\n      <td>0.987776</td>\n    </tr>\n    <tr>\n      <th>3.946667</th>\n      <td>0.990678</td>\n      <td>0.977079</td>\n      <td>0.967224</td>\n      <td>0.988112</td>\n      <td>0.975188</td>\n      <td>0.992005</td>\n      <td>0.997279</td>\n      <td>0.998690</td>\n      <td>0.972076</td>\n      <td>0.938016</td>\n      <td>...</td>\n      <td>0.982216</td>\n      <td>0.967455</td>\n      <td>0.982801</td>\n      <td>0.995717</td>\n      <td>0.985402</td>\n      <td>0.985974</td>\n      <td>0.988225</td>\n      <td>0.964453</td>\n      <td>0.974502</td>\n      <td>0.965598</td>\n    </tr>\n    <tr>\n      <th>7.893333</th>\n      <td>0.983467</td>\n      <td>0.955168</td>\n      <td>0.957305</td>\n      <td>0.979455</td>\n      <td>0.953674</td>\n      <td>0.986539</td>\n      <td>0.995674</td>\n      <td>0.998106</td>\n      <td>0.945092</td>\n      <td>0.879592</td>\n      <td>...</td>\n      <td>0.970207</td>\n      <td>0.940196</td>\n      <td>0.968944</td>\n      <td>0.993502</td>\n      <td>0.974408</td>\n      <td>0.976363</td>\n      <td>0.978538</td>\n      <td>0.929859</td>\n      <td>0.950968</td>\n      <td>0.943420</td>\n    </tr>\n    <tr>\n      <th>11.840000</th>\n      <td>0.976257</td>\n      <td>0.933257</td>\n      <td>0.947387</td>\n      <td>0.970799</td>\n      <td>0.932161</td>\n      <td>0.981074</td>\n      <td>0.994069</td>\n      <td>0.997523</td>\n      <td>0.918107</td>\n      <td>0.821168</td>\n      <td>...</td>\n      <td>0.958198</td>\n      <td>0.912936</td>\n      <td>0.955088</td>\n      <td>0.991287</td>\n      <td>0.963414</td>\n      <td>0.966751</td>\n      <td>0.968852</td>\n      <td>0.895265</td>\n      <td>0.927434</td>\n      <td>0.921242</td>\n    </tr>\n    <tr>\n      <th>15.786667</th>\n      <td>0.969046</td>\n      <td>0.911346</td>\n      <td>0.937468</td>\n      <td>0.962142</td>\n      <td>0.910647</td>\n      <td>0.975609</td>\n      <td>0.992463</td>\n      <td>0.996939</td>\n      <td>0.891123</td>\n      <td>0.762744</td>\n      <td>...</td>\n      <td>0.946189</td>\n      <td>0.885676</td>\n      <td>0.941231</td>\n      <td>0.989071</td>\n      <td>0.952420</td>\n      <td>0.957139</td>\n      <td>0.959165</td>\n      <td>0.860672</td>\n      <td>0.903900</td>\n      <td>0.899064</td>\n    </tr>\n    <tr>\n      <th>19.733334</th>\n      <td>0.961836</td>\n      <td>0.889435</td>\n      <td>0.927550</td>\n      <td>0.953485</td>\n      <td>0.889133</td>\n      <td>0.970144</td>\n      <td>0.990858</td>\n      <td>0.996355</td>\n      <td>0.864138</td>\n      <td>0.704320</td>\n      <td>...</td>\n      <td>0.934180</td>\n      <td>0.858417</td>\n      <td>0.927375</td>\n      <td>0.986856</td>\n      <td>0.941425</td>\n      <td>0.947527</td>\n      <td>0.949479</td>\n      <td>0.826078</td>\n      <td>0.880365</td>\n      <td>0.876886</td>\n    </tr>\n    <tr>\n      <th>23.680000</th>\n      <td>0.954625</td>\n      <td>0.867524</td>\n      <td>0.917631</td>\n      <td>0.944828</td>\n      <td>0.867620</td>\n      <td>0.964679</td>\n      <td>0.989253</td>\n      <td>0.995771</td>\n      <td>0.837154</td>\n      <td>0.645896</td>\n      <td>...</td>\n      <td>0.922171</td>\n      <td>0.831157</td>\n      <td>0.913518</td>\n      <td>0.984641</td>\n      <td>0.930431</td>\n      <td>0.937916</td>\n      <td>0.939792</td>\n      <td>0.791485</td>\n      <td>0.856831</td>\n      <td>0.854708</td>\n    </tr>\n    <tr>\n      <th>27.626667</th>\n      <td>0.947415</td>\n      <td>0.845613</td>\n      <td>0.907713</td>\n      <td>0.936171</td>\n      <td>0.846106</td>\n      <td>0.959213</td>\n      <td>0.987647</td>\n      <td>0.995187</td>\n      <td>0.810169</td>\n      <td>0.587472</td>\n      <td>...</td>\n      <td>0.910162</td>\n      <td>0.803898</td>\n      <td>0.899662</td>\n      <td>0.982426</td>\n      <td>0.919437</td>\n      <td>0.928304</td>\n      <td>0.930105</td>\n      <td>0.756891</td>\n      <td>0.833297</td>\n      <td>0.832530</td>\n    </tr>\n    <tr>\n      <th>31.573334</th>\n      <td>0.940204</td>\n      <td>0.823702</td>\n      <td>0.897794</td>\n      <td>0.927515</td>\n      <td>0.824592</td>\n      <td>0.953748</td>\n      <td>0.986042</td>\n      <td>0.994603</td>\n      <td>0.783184</td>\n      <td>0.529048</td>\n      <td>...</td>\n      <td>0.898154</td>\n      <td>0.776638</td>\n      <td>0.885805</td>\n      <td>0.980211</td>\n      <td>0.908443</td>\n      <td>0.918692</td>\n      <td>0.920419</td>\n      <td>0.722297</td>\n      <td>0.809763</td>\n      <td>0.810351</td>\n    </tr>\n    <tr>\n      <th>35.520000</th>\n      <td>0.932994</td>\n      <td>0.801792</td>\n      <td>0.887876</td>\n      <td>0.918858</td>\n      <td>0.803079</td>\n      <td>0.948283</td>\n      <td>0.984437</td>\n      <td>0.994019</td>\n      <td>0.756200</td>\n      <td>0.470624</td>\n      <td>...</td>\n      <td>0.886145</td>\n      <td>0.749378</td>\n      <td>0.871949</td>\n      <td>0.977995</td>\n      <td>0.897449</td>\n      <td>0.909080</td>\n      <td>0.910732</td>\n      <td>0.687704</td>\n      <td>0.786229</td>\n      <td>0.788173</td>\n    </tr>\n    <tr>\n      <th>39.466667</th>\n      <td>0.925783</td>\n      <td>0.779881</td>\n      <td>0.877957</td>\n      <td>0.910201</td>\n      <td>0.781565</td>\n      <td>0.942818</td>\n      <td>0.982831</td>\n      <td>0.993435</td>\n      <td>0.729215</td>\n      <td>0.412200</td>\n      <td>...</td>\n      <td>0.874136</td>\n      <td>0.722119</td>\n      <td>0.858092</td>\n      <td>0.975780</td>\n      <td>0.886455</td>\n      <td>0.899468</td>\n      <td>0.901046</td>\n      <td>0.653110</td>\n      <td>0.762695</td>\n      <td>0.765995</td>\n    </tr>\n    <tr>\n      <th>43.413334</th>\n      <td>0.902162</td>\n      <td>0.762350</td>\n      <td>0.862645</td>\n      <td>0.897250</td>\n      <td>0.754873</td>\n      <td>0.931251</td>\n      <td>0.978628</td>\n      <td>0.991024</td>\n      <td>0.685955</td>\n      <td>0.395379</td>\n      <td>...</td>\n      <td>0.863165</td>\n      <td>0.693594</td>\n      <td>0.843046</td>\n      <td>0.970013</td>\n      <td>0.866816</td>\n      <td>0.889183</td>\n      <td>0.879391</td>\n      <td>0.608128</td>\n      <td>0.742316</td>\n      <td>0.744343</td>\n    </tr>\n    <tr>\n      <th>47.360001</th>\n      <td>0.878541</td>\n      <td>0.744820</td>\n      <td>0.847333</td>\n      <td>0.884298</td>\n      <td>0.728181</td>\n      <td>0.919684</td>\n      <td>0.974425</td>\n      <td>0.988613</td>\n      <td>0.642695</td>\n      <td>0.378557</td>\n      <td>...</td>\n      <td>0.852194</td>\n      <td>0.665070</td>\n      <td>0.828001</td>\n      <td>0.964245</td>\n      <td>0.847177</td>\n      <td>0.878898</td>\n      <td>0.857737</td>\n      <td>0.563145</td>\n      <td>0.721937</td>\n      <td>0.722690</td>\n    </tr>\n    <tr>\n      <th>51.306667</th>\n      <td>0.854920</td>\n      <td>0.727290</td>\n      <td>0.832021</td>\n      <td>0.871347</td>\n      <td>0.701489</td>\n      <td>0.908117</td>\n      <td>0.970222</td>\n      <td>0.986202</td>\n      <td>0.599434</td>\n      <td>0.361736</td>\n      <td>...</td>\n      <td>0.841223</td>\n      <td>0.636546</td>\n      <td>0.812955</td>\n      <td>0.958478</td>\n      <td>0.827538</td>\n      <td>0.868613</td>\n      <td>0.836082</td>\n      <td>0.518163</td>\n      <td>0.701558</td>\n      <td>0.701038</td>\n    </tr>\n    <tr>\n      <th>55.253334</th>\n      <td>0.831299</td>\n      <td>0.709760</td>\n      <td>0.816709</td>\n      <td>0.858395</td>\n      <td>0.674797</td>\n      <td>0.896550</td>\n      <td>0.966018</td>\n      <td>0.983791</td>\n      <td>0.556174</td>\n      <td>0.344915</td>\n      <td>...</td>\n      <td>0.830252</td>\n      <td>0.608021</td>\n      <td>0.797909</td>\n      <td>0.952711</td>\n      <td>0.807900</td>\n      <td>0.858328</td>\n      <td>0.814428</td>\n      <td>0.473180</td>\n      <td>0.681179</td>\n      <td>0.679385</td>\n    </tr>\n    <tr>\n      <th>59.200001</th>\n      <td>0.807678</td>\n      <td>0.692230</td>\n      <td>0.801397</td>\n      <td>0.845444</td>\n      <td>0.648105</td>\n      <td>0.884983</td>\n      <td>0.961815</td>\n      <td>0.981379</td>\n      <td>0.512914</td>\n      <td>0.328093</td>\n      <td>...</td>\n      <td>0.819281</td>\n      <td>0.579497</td>\n      <td>0.782863</td>\n      <td>0.946943</td>\n      <td>0.788261</td>\n      <td>0.848043</td>\n      <td>0.792773</td>\n      <td>0.428198</td>\n      <td>0.660800</td>\n      <td>0.657733</td>\n    </tr>\n    <tr>\n      <th>63.146667</th>\n      <td>0.784057</td>\n      <td>0.674700</td>\n      <td>0.786085</td>\n      <td>0.832492</td>\n      <td>0.621412</td>\n      <td>0.873416</td>\n      <td>0.957612</td>\n      <td>0.978968</td>\n      <td>0.469653</td>\n      <td>0.311272</td>\n      <td>...</td>\n      <td>0.808310</td>\n      <td>0.550973</td>\n      <td>0.767817</td>\n      <td>0.941176</td>\n      <td>0.768622</td>\n      <td>0.837758</td>\n      <td>0.771119</td>\n      <td>0.383215</td>\n      <td>0.640420</td>\n      <td>0.636080</td>\n    </tr>\n    <tr>\n      <th>67.093334</th>\n      <td>0.760436</td>\n      <td>0.657170</td>\n      <td>0.770774</td>\n      <td>0.819541</td>\n      <td>0.594720</td>\n      <td>0.861849</td>\n      <td>0.953409</td>\n      <td>0.976557</td>\n      <td>0.426393</td>\n      <td>0.294451</td>\n      <td>...</td>\n      <td>0.797339</td>\n      <td>0.522448</td>\n      <td>0.752771</td>\n      <td>0.935408</td>\n      <td>0.748983</td>\n      <td>0.827473</td>\n      <td>0.749465</td>\n      <td>0.338232</td>\n      <td>0.620041</td>\n      <td>0.614428</td>\n    </tr>\n    <tr>\n      <th>71.040001</th>\n      <td>0.736815</td>\n      <td>0.639639</td>\n      <td>0.755462</td>\n      <td>0.806590</td>\n      <td>0.568028</td>\n      <td>0.850281</td>\n      <td>0.949205</td>\n      <td>0.974146</td>\n      <td>0.383133</td>\n      <td>0.277629</td>\n      <td>...</td>\n      <td>0.786368</td>\n      <td>0.493924</td>\n      <td>0.737726</td>\n      <td>0.929641</td>\n      <td>0.729344</td>\n      <td>0.817188</td>\n      <td>0.727810</td>\n      <td>0.293250</td>\n      <td>0.599662</td>\n      <td>0.592775</td>\n    </tr>\n    <tr>\n      <th>74.986668</th>\n      <td>0.713194</td>\n      <td>0.622109</td>\n      <td>0.740150</td>\n      <td>0.793638</td>\n      <td>0.541336</td>\n      <td>0.838714</td>\n      <td>0.945002</td>\n      <td>0.971735</td>\n      <td>0.339872</td>\n      <td>0.260808</td>\n      <td>...</td>\n      <td>0.775397</td>\n      <td>0.465400</td>\n      <td>0.722680</td>\n      <td>0.923874</td>\n      <td>0.709706</td>\n      <td>0.806903</td>\n      <td>0.706156</td>\n      <td>0.248267</td>\n      <td>0.579283</td>\n      <td>0.571123</td>\n    </tr>\n  </tbody>\n</table>\n<p>20 rows × 381 columns</p>\n</div>"
     },
     "execution_count": 6,
     "metadata": {},
     "output_type": "execute_result"
    }
   ],
   "source": [
    "surv = model.interpolate(10).predict_surv_df(x_test)\n",
    "surv.head(20)"
   ],
   "metadata": {
    "collapsed": false,
    "pycharm": {
     "name": "#%%\n"
    }
   }
  },
  {
   "cell_type": "markdown",
   "source": [
    "## Build the evaluator.\n",
    "Some arguments includes:\n",
    "1. Training set information (`durations_train` and `events_train`) is optional if you don't need Brier score, integrated Brier score, and L1-margin loss.\n",
    "2. `predicted_time_method` argument indicates whether using median or mean survival time as the predicted time."
   ],
   "metadata": {
    "collapsed": false,
    "pycharm": {
     "name": "#%% md\n"
    }
   }
  },
  {
   "cell_type": "code",
   "execution_count": 7,
   "outputs": [],
   "source": [
    "eval = PycoxEvaluator(surv, durations_test, events_test, durations_train, events_train, predict_time_method=\"Median\")"
   ],
   "metadata": {
    "collapsed": false,
    "pycharm": {
     "name": "#%%\n"
    }
   }
  },
  {
   "cell_type": "markdown",
   "source": [
    "## Make some example plots"
   ],
   "metadata": {
    "collapsed": false
   }
  },
  {
   "cell_type": "code",
   "execution_count": 8,
   "outputs": [
    {
     "data": {
      "text/plain": "(<Figure size 432x288 with 1 Axes>,\n <AxesSubplot:xlabel='Time', ylabel='Survival probability'>)"
     },
     "execution_count": 8,
     "metadata": {},
     "output_type": "execute_result"
    },
    {
     "data": {
      "text/plain": "<Figure size 432x288 with 1 Axes>",
      "image/png": "[encoded data removed]"
     },
     "metadata": {
      "needs_background": "light"
     },
     "output_type": "display_data"
    }
   ],
   "source": [
    "eval.plot_survival_curves([1, 10, 100])"
   ],
   "metadata": {
    "collapsed": false,
    "pycharm": {
     "name": "#%%\n"
    }
   }
  },
  {
   "cell_type": "markdown",
   "source": [
    "## Calculate the concordance index.\n",
    "`ties` argument indicates the way ties should be handled.\n",
    "`ties=\"None\"` will throw out all ties in true survival time and all ties in predict survival times (risk scores).\n",
    "`ties=\"Time\"` includes ties in true survival time but removes ties in predict survival times (risk scores).\n",
    "`ties=\"Risk\"` includes ties in predict survival times (risk scores) but not in true survival time.\n",
    "`ties=\"All\"` includes all ties."
   ],
   "metadata": {
    "collapsed": false,
    "pycharm": {
     "name": "#%% md\n"
    }
   }
  },
  {
   "cell_type": "code",
   "execution_count": 9,
   "outputs": [
    {
     "name": "stdout",
     "output_type": "stream",
     "text": [
      "Concordance index is 0.6396413582602061, meaning that the model can correctly order 30177.0 pairs among 47178.0 comparable pairs in the testing set.\n"
     ]
    }
   ],
   "source": [
    "cindex, concordant_pairs, total_pairs = eval.concordance(ties=\"None\")\n",
    "print(\"Concordance index is {}, meaning that the model can correctly order {} pairs among {} comparable pairs \"\n",
    "      \"in the testing set.\".format(cindex, concordant_pairs, total_pairs))"
   ],
   "metadata": {
    "collapsed": false,
    "pycharm": {
     "name": "#%%\n"
    }
   }
  },
  {
   "cell_type": "markdown",
   "source": [
    "## Calculate the Brier score\n",
    "Target time is at time 175."
   ],
   "metadata": {
    "collapsed": false
   }
  },
  {
   "cell_type": "code",
   "execution_count": 10,
   "outputs": [
    {
     "name": "stdout",
     "output_type": "stream",
     "text": [
      "Brier score at time 175 is 0.2150264739814309.\n"
     ]
    }
   ],
   "source": [
    "bs = eval.brier_score(target_time=175)\n",
    "print(\"Brier score at time 175 is {}.\".format(bs))"
   ],
   "metadata": {
    "collapsed": false,
    "pycharm": {
     "name": "#%%\n"
    }
   }
  },
  {
   "cell_type": "markdown",
   "source": [
    "## Calculate the integrated Brier score (IBS)\n",
    "You can specify the number of points `num_points` to integral. If it is not specify, the default setting will use the censored time points obtained from testing set."
   ],
   "metadata": {
    "collapsed": false
   }
  },
  {
   "cell_type": "code",
   "execution_count": 11,
   "outputs": [
    {
     "data": {
      "text/plain": "<Figure size 432x288 with 1 Axes>",
      "image/png": "[encoded data removed]"
     },
     "metadata": {
      "needs_background": "light"
     },
     "output_type": "display_data"
    },
    {
     "name": "stdout",
     "output_type": "stream",
     "text": [
      "Integrated Brier score is 0.1523787867119464.\n"
     ]
    }
   ],
   "source": [
    "ibs = eval.integrated_brier_score(num_points=None, draw_figure=True)\n",
    "print(\"Integrated Brier score is {}.\".format(ibs))"
   ],
   "metadata": {
    "collapsed": false,
    "pycharm": {
     "name": "#%%\n"
    }
   }
  },
  {
   "cell_type": "markdown",
   "source": [
    "# Calculate the L1-margin (MAE-margin) loss\n",
    "You can set `method` as `Hinge`, `Uncensored`, `Margin`, `IPCW-v1`, `IPCW-v2`, or `Pseudo_obs` for different l1 loss calculation."
   ],
   "metadata": {
    "collapsed": false
   }
  },
  {
   "cell_type": "code",
   "execution_count": 12,
   "outputs": [
    {
     "name": "stdout",
     "output_type": "stream",
     "text": [
      "L1-margin loss is 52.09689807902068.\n"
     ]
    }
   ],
   "source": [
    "l1 = eval.l1_loss(method='Hinge')\n",
    "print(\"L1-margin loss is {}.\".format(l1))"
   ],
   "metadata": {
    "collapsed": false,
    "pycharm": {
     "name": "#%%\n"
    }
   }
  },
  {
   "cell_type": "markdown",
   "source": [
    "## Calculate the 1-Calibration\n",
    "Run one calibration test at 50% time of the testing set."
   ],
   "metadata": {
    "collapsed": false
   }
  },
  {
   "cell_type": "code",
   "execution_count": 13,
   "outputs": [
    {
     "name": "stdout",
     "output_type": "stream",
     "text": [
      "The model is one-calibrated at time 113.\n"
     ]
    }
   ],
   "source": [
    "t_time = round(np.percentile(durations_test, 50))\n",
    "p_value, ob, exp = eval.one_calibration(target_time=t_time, method=\"DN\")\n",
    "if p_value >= 0.05:\n",
    "    print(\"The model is one-calibrated at time {}.\".format(t_time))\n",
    "else:\n",
    "    print(\"The model is not one-calibrated at time {}.\".format(t_time))"
   ],
   "metadata": {
    "collapsed": false,
    "pycharm": {
     "name": "#%%\n"
    }
   }
  },
  {
   "cell_type": "markdown",
   "source": [
    "###  Plot the histogram for 1-Calibration.\n",
    "As presented in [Effective Ways to Build and Evaluate Individual Survival Distributions](https://jmlr.csail.mit.edu/papers/v21/18-772.html)"
   ],
   "metadata": {
    "collapsed": false
   }
  },
  {
   "cell_type": "code",
   "execution_count": 14,
   "outputs": [],
   "source": [
    "# Reverse the bins to let it start from small to large observations\n",
    "ob.reverse()\n",
    "exp.reverse()"
   ],
   "metadata": {
    "collapsed": false,
    "pycharm": {
     "name": "#%%\n"
    }
   }
  },
  {
   "cell_type": "code",
   "execution_count": 15,
   "outputs": [
    {
     "data": {
      "text/plain": "<Figure size 432x288 with 1 Axes>",
      "image/png": "[encoded data removed]"
     },
     "metadata": {
      "needs_background": "light"
     },
     "output_type": "display_data"
    }
   ],
   "source": [
    "bins = np.arange(10)\n",
    "plt.bar(bins - 0.15, ob, width=0.3, label=\"Observed\")\n",
    "plt.bar(bins + 0.15, exp, width=0.3, label=\"Expected\")\n",
    "\n",
    "plt.xlabel('Bin')\n",
    "plt.ylabel('Survival Probability')\n",
    "plt.text(0.5, 0.5, r'$p-value = {:.3f}$'.format(p_value), verticalalignment='top', horizontalalignment='left', fontsize=12, color='Black')\n",
    "plt.legend()\n",
    "plt.show()"
   ],
   "metadata": {
    "collapsed": false,
    "pycharm": {
     "name": "#%%\n"
    }
   }
  },
  {
   "cell_type": "markdown",
   "source": [
    "## Calculate the distribution calibration (D-Calibration)"
   ],
   "metadata": {
    "collapsed": false
   }
  },
  {
   "cell_type": "code",
   "execution_count": 16,
   "outputs": [
    {
     "name": "stdout",
     "output_type": "stream",
     "text": [
      "The model is d-calibrated!\n"
     ]
    }
   ],
   "source": [
    "p_value_2, bin_statistics = eval.d_calibration()\n",
    "if p_value_2 >= 0.05:\n",
    "    print(\"The model is d-calibrated!\")\n",
    "else:\n",
    "    print(\"The model is not d-calibrated!\")"
   ],
   "metadata": {
    "collapsed": false,
    "pycharm": {
     "name": "#%%\n"
    }
   }
  },
  {
   "cell_type": "code",
   "execution_count": 17,
   "outputs": [
    {
     "data": {
      "text/plain": "array([0.09007619, 0.10882209, 0.0850901 , 0.08035892, 0.10668226,\n       0.08903227, 0.09687332, 0.09677283, 0.11161959, 0.13467244])"
     },
     "execution_count": 17,
     "metadata": {},
     "output_type": "execute_result"
    }
   ],
   "source": [
    "# An ideal model should have bin statistics equally distributed. That means 0.1 for each value since we are using 10 bins.\n",
    "bin_statistics /= bin_statistics.sum()\n",
    "bin_statistics"
   ],
   "metadata": {
    "collapsed": false,
    "pycharm": {
     "name": "#%%\n"
    }
   }
  },
  {
   "cell_type": "markdown",
   "source": [
    "### Plot the sideways histogram of D-Calibration\n",
    "As presented in [Effective Ways to Build and Evaluate Individual Survival Distributions](https://jmlr.csail.mit.edu/papers/v21/18-772.html)"
   ],
   "metadata": {
    "collapsed": false
   }
  },
  {
   "cell_type": "code",
   "execution_count": 18,
   "outputs": [
    {
     "data": {
      "text/plain": "<Figure size 432x288 with 1 Axes>",
      "image/png": "[encoded data removed]"
     },
     "metadata": {
      "needs_background": "light"
     },
     "output_type": "display_data"
    }
   ],
   "source": [
    "bars = ('[0.0, 0.1)', '[0.1, 0.2)', '[0.2, 0.3)', '[0.3, 0.4)', '[0.4, 0.5)',\n",
    "        '[0.5, 0.6)', '[0.6, 0.7)', '[0.7, 0.8)', '[0.8, 0.9)', '[0.9, 1.0]')\n",
    "y_pos = np.arange(len(bars))\n",
    "\n",
    "fig, ax = plt.subplots()\n",
    "ax.barh(y_pos, bin_statistics)\n",
    "ax.plot(np.ones(len(bars)+2) * 0.1, np.arange(-1, len(bars)+1),  '--', color=\"black\")\n",
    "ax.invert_yaxis()  # labels read top-to-bottom\n",
    "ax.set_xlabel('Proportion in Bin')\n",
    "ax.set_ylabel('Bins')\n",
    "ax.text(0.14, 0.5, r'$p-value = {:.2f}$'.format(p_value_2), verticalalignment='top', horizontalalignment='right', fontsize=10, color='Black')\n",
    "plt.ylim([-0.8, 9.8])\n",
    "plt.yticks(y_pos, bars)\n",
    "plt.show()"
   ],
   "metadata": {
    "collapsed": false,
    "pycharm": {
     "name": "#%%\n"
    }
   }
  },
  {
   "cell_type": "markdown",
   "source": [
    "### Plot the Q-Q plot of D-Calibration\n",
    "As presented in [Countdown Regression: Sharp and Calibrated Survival Predictions](https://proceedings.mlr.press/v115/avati20a.html) and [Inverse-Weighted Survival Games](https://arxiv.org/abs/2111.08175)"
   ],
   "metadata": {
    "collapsed": false
   }
  },
  {
   "cell_type": "code",
   "execution_count": 19,
   "outputs": [
    {
     "data": {
      "text/plain": "<Figure size 432x288 with 1 Axes>",
      "image/png": "[encoded data removed]"
     },
     "metadata": {
      "needs_background": "light"
     },
     "output_type": "display_data"
    }
   ],
   "source": [
    "default = np.linspace(0, 1, 11)\n",
    "plt.plot(default, default, linestyle='dashed', label=\"x=y\")\n",
    "\n",
    "fraction = np.concatenate((np.array([0]), bin_statistics))\n",
    "plt.plot(default, fraction.cumsum(), 'o-', label=\"DeepHit\")\n",
    "\n",
    "plt.xlabel(\"Cumulative Risk\")\n",
    "plt.ylabel(\"Observed Cumulative Fraction\")\n",
    "plt.legend()\n",
    "plt.show()"
   ],
   "metadata": {
    "collapsed": false,
    "pycharm": {
     "name": "#%%\n"
    }
   }
  },
  {
   "cell_type": "code",
   "execution_count": null,
   "outputs": [],
   "source": [],
   "metadata": {
    "collapsed": false,
    "pycharm": {
     "name": "#%%\n"
    }
   }
  }
 ],
 "metadata": {
  "kernelspec": {
   "display_name": "Python 3",
   "language": "python",
   "name": "python3"
  },
  "language_info": {
   "codemirror_mode": {
    "name": "ipython",
    "version": 2
   },
   "file_extension": ".py",
   "mimetype": "text/x-python",
   "name": "python",
   "nbconvert_exporter": "python",
   "pygments_lexer": "ipython2",
   "version": "2.7.6"
  }
 },
 "nbformat": 4,
 "nbformat_minor": 0
}