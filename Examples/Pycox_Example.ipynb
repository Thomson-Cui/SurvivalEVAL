{
 "cells": [
  {
   "cell_type": "markdown",
   "source": [
    "# Evaluation for Pycox model\n",
    "\n",
    "In this notebook we introduce the use of `PycoxEvaluator` in the package through an example dataset and a model.\n",
    "The first half of this notebook follows the procedure described in the Pycox [example](https://github.com/havakv/pycox/blob/master/examples/01_introduction.ipynb).\n",
    "\n",
    "In the following we will:\n",
    "\n",
    "1. Load the METABRIC survival dataset and create a `LogisticHazard` model;\n",
    "2. Train the model using training set;\n",
    "3. Evaluate the performance using the concordance, Brier score, L1 loss, 1-calibration, and D-calibration."
   ],
   "metadata": {
    "collapsed": false,
    "pycharm": {
     "name": "#%% md\n"
    }
   }
  },
  {
   "cell_type": "markdown",
   "source": [
    "# Import Dependencies\n",
    "Note: You need `sklearn-pandas` for normalizing the data."
   ],
   "metadata": {
    "collapsed": false,
    "pycharm": {
     "name": "#%% md\n"
    }
   }
  },
  {
   "cell_type": "code",
   "execution_count": 1,
   "metadata": {
    "collapsed": true
   },
   "outputs": [],
   "source": [
    "import numpy as np\n",
    "import matplotlib.pyplot as plt\n",
    "\n",
    "# For preprocessing\n",
    "from sklearn.preprocessing import StandardScaler\n",
    "from sklearn_pandas import DataFrameMapper\n",
    "\n",
    "import torch # For building the networks\n",
    "import torchtuples as tt # Some useful functions\n",
    "\n",
    "from pycox.datasets import metabric\n",
    "from pycox.models import LogisticHazard\n",
    "\n",
    "from Evaluator import PycoxEvaluator"
   ]
  },
  {
   "cell_type": "code",
   "execution_count": 2,
   "outputs": [],
   "source": [
    "%matplotlib inline"
   ],
   "metadata": {
    "collapsed": false,
    "pycharm": {
     "name": "#%%\n"
    }
   }
  },
  {
   "cell_type": "markdown",
   "source": [
    "Set seed for torch and numpy"
   ],
   "metadata": {
    "collapsed": false,
    "pycharm": {
     "name": "#%% md\n"
    }
   }
  },
  {
   "cell_type": "code",
   "execution_count": 3,
   "outputs": [],
   "source": [
    "np.random.seed(1234)\n",
    "_ = torch.manual_seed(123)"
   ],
   "metadata": {
    "collapsed": false,
    "pycharm": {
     "name": "#%%\n"
    }
   }
  },
  {
   "cell_type": "markdown",
   "source": [
    "Load the dataset, split it into training (64%), validation (16%) and testing set (20%).\n",
    "Then standardize the covariates."
   ],
   "metadata": {
    "collapsed": false,
    "pycharm": {
     "name": "#%% md\n"
    }
   }
  },
  {
   "cell_type": "code",
   "execution_count": 4,
   "outputs": [],
   "source": [
    "df_train = metabric.read_df()\n",
    "df_test = df_train.sample(frac=0.2)\n",
    "df_train = df_train.drop(df_test.index)\n",
    "df_val = df_train.sample(frac=0.2)\n",
    "df_train = df_train.drop(df_val.index)\n",
    "\n",
    "cols_standardize = ['x0', 'x1', 'x2', 'x3', 'x8']\n",
    "cols_leave = ['x4', 'x5', 'x6', 'x7']\n",
    "\n",
    "standardize = [([col], StandardScaler()) for col in cols_standardize]\n",
    "leave = [(col, None) for col in cols_leave]\n",
    "\n",
    "x_mapper = DataFrameMapper(standardize + leave)\n",
    "\n",
    "x_train = x_mapper.fit_transform(df_train).astype('float32')\n",
    "x_val = x_mapper.transform(df_val).astype('float32')\n",
    "x_test = x_mapper.transform(df_test).astype('float32')"
   ],
   "metadata": {
    "collapsed": false,
    "pycharm": {
     "name": "#%%\n"
    }
   }
  },
  {
   "cell_type": "markdown",
   "source": [
    "Build the model and train it."
   ],
   "metadata": {
    "collapsed": false,
    "pycharm": {
     "name": "#%% md\n"
    }
   }
  },
  {
   "cell_type": "code",
   "execution_count": 5,
   "outputs": [
    {
     "name": "stdout",
     "output_type": "stream",
     "text": [
      "0:\t[0s / 0s],\t\ttrain_loss: 2.9332,\tval_loss: 2.7593\n",
      "1:\t[0s / 0s],\t\ttrain_loss: 2.6493,\tval_loss: 2.5245\n",
      "2:\t[0s / 0s],\t\ttrain_loss: 2.3807,\tval_loss: 2.2181\n",
      "3:\t[0s / 0s],\t\ttrain_loss: 2.0595,\tval_loss: 1.8908\n",
      "4:\t[0s / 0s],\t\ttrain_loss: 1.7514,\tval_loss: 1.6019\n",
      "5:\t[0s / 0s],\t\ttrain_loss: 1.5335,\tval_loss: 1.4371\n",
      "6:\t[0s / 0s],\t\ttrain_loss: 1.4379,\tval_loss: 1.3759\n",
      "7:\t[0s / 0s],\t\ttrain_loss: 1.3954,\tval_loss: 1.3658\n",
      "8:\t[0s / 0s],\t\ttrain_loss: 1.3906,\tval_loss: 1.3619\n",
      "9:\t[0s / 0s],\t\ttrain_loss: 1.3730,\tval_loss: 1.3531\n",
      "10:\t[0s / 0s],\t\ttrain_loss: 1.3605,\tval_loss: 1.3486\n",
      "11:\t[0s / 0s],\t\ttrain_loss: 1.3349,\tval_loss: 1.3513\n",
      "12:\t[0s / 0s],\t\ttrain_loss: 1.3153,\tval_loss: 1.3488\n",
      "13:\t[0s / 0s],\t\ttrain_loss: 1.3133,\tval_loss: 1.3418\n",
      "14:\t[0s / 0s],\t\ttrain_loss: 1.2988,\tval_loss: 1.3432\n",
      "15:\t[0s / 0s],\t\ttrain_loss: 1.3079,\tval_loss: 1.3525\n",
      "16:\t[0s / 0s],\t\ttrain_loss: 1.2976,\tval_loss: 1.3565\n",
      "17:\t[0s / 0s],\t\ttrain_loss: 1.2918,\tval_loss: 1.3577\n",
      "18:\t[0s / 0s],\t\ttrain_loss: 1.2900,\tval_loss: 1.3594\n",
      "19:\t[0s / 0s],\t\ttrain_loss: 1.2888,\tval_loss: 1.3655\n",
      "20:\t[0s / 0s],\t\ttrain_loss: 1.2871,\tval_loss: 1.3675\n",
      "21:\t[0s / 0s],\t\ttrain_loss: 1.2807,\tval_loss: 1.3648\n",
      "22:\t[0s / 0s],\t\ttrain_loss: 1.2919,\tval_loss: 1.3638\n",
      "23:\t[0s / 0s],\t\ttrain_loss: 1.2735,\tval_loss: 1.3685\n"
     ]
    }
   ],
   "source": [
    "num_durations = 10\n",
    "\n",
    "labtrans = LogisticHazard.label_transform(num_durations)\n",
    "\n",
    "get_target = lambda df: (df['duration'].values, df['event'].values)\n",
    "y_train = labtrans.fit_transform(*get_target(df_train))\n",
    "y_val = labtrans.transform(*get_target(df_val))\n",
    "\n",
    "train = (x_train, y_train)\n",
    "val = (x_val, y_val)\n",
    "\n",
    "# We don't need to transform the test labels\n",
    "durations_test, events_test = get_target(df_test)\n",
    "durations_train, events_train = get_target(df_train)\n",
    "\n",
    "in_features = x_train.shape[1]\n",
    "num_nodes = [32, 32]\n",
    "out_features = labtrans.out_features\n",
    "batch_norm = True\n",
    "dropout = 0.1\n",
    "\n",
    "net = tt.practical.MLPVanilla(in_features, num_nodes, out_features, batch_norm, dropout)\n",
    "\n",
    "model = LogisticHazard(net, tt.optim.Adam(0.01), duration_index=labtrans.cuts)\n",
    "\n",
    "batch_size = 256\n",
    "epochs = 100\n",
    "callbacks = [tt.cb.EarlyStopping()]\n",
    "\n",
    "log = model.fit(x_train, y_train, batch_size, epochs, callbacks, val_data=val)"
   ],
   "metadata": {
    "collapsed": false,
    "pycharm": {
     "name": "#%%\n"
    }
   }
  },
  {
   "cell_type": "markdown",
   "source": [
    "Make the prediction. `surv` is a Dataframe object with index represents the time coordinates, and values represents the survival curves."
   ],
   "metadata": {
    "collapsed": false,
    "pycharm": {
     "name": "#%% md\n"
    }
   }
  },
  {
   "cell_type": "code",
   "execution_count": 6,
   "outputs": [],
   "source": [
    "surv = model.interpolate(10).predict_surv_df(x_test)"
   ],
   "metadata": {
    "collapsed": false,
    "pycharm": {
     "name": "#%%\n"
    }
   }
  },
  {
   "cell_type": "markdown",
   "source": [
    "Build the evaluator. Training set information (`durations_train` and `events_train`) is optional if you don't need Brier score, integrated Brier score, and L1-margin loss."
   ],
   "metadata": {
    "collapsed": false,
    "pycharm": {
     "name": "#%% md\n"
    }
   }
  },
  {
   "cell_type": "code",
   "execution_count": 7,
   "outputs": [],
   "source": [
    "eval = PycoxEvaluator(surv, durations_test, events_test, durations_train, events_train)"
   ],
   "metadata": {
    "collapsed": false,
    "pycharm": {
     "name": "#%%\n"
    }
   }
  },
  {
   "cell_type": "markdown",
   "source": [
    "Calculate the concordance index. `ties` argument indicates the way ties should be handled.\n",
    "`predicted_time_method` argument indicates whether using median or mean survival time as the predicted time."
   ],
   "metadata": {
    "collapsed": false,
    "pycharm": {
     "name": "#%% md\n"
    }
   }
  },
  {
   "cell_type": "code",
   "execution_count": 8,
   "outputs": [
    {
     "name": "stdout",
     "output_type": "stream",
     "text": [
      "Concordance index is 0.6396413582602061, meaning that the model can correctly order 30177 pairs among 47178 comparable pairs in the testing set.\n"
     ]
    }
   ],
   "source": [
    "cindex, concordant_pairs, total_pairs = eval.concordance(ties=\"None\", predicted_time_method=\"Median\")\n",
    "print(\"Concordance index is {}, meaning that the model can correctly order {} pairs among {} comparable pairs \"\n",
    "      \"in the testing set.\".format(cindex, concordant_pairs, total_pairs))"
   ],
   "metadata": {
    "collapsed": false,
    "pycharm": {
     "name": "#%%\n"
    }
   }
  },
  {
   "cell_type": "markdown",
   "source": [
    "Calculate the Brier score at time 175."
   ],
   "metadata": {
    "collapsed": false
   }
  },
  {
   "cell_type": "code",
   "execution_count": 9,
   "outputs": [
    {
     "name": "stdout",
     "output_type": "stream",
     "text": [
      "Brier score at time 175 is 0.21502646817531187.\n"
     ]
    }
   ],
   "source": [
    "bs = eval.brier_score(target_time=175)\n",
    "print(\"Brier score at time 175 is {}.\".format(bs))"
   ],
   "metadata": {
    "collapsed": false,
    "pycharm": {
     "name": "#%%\n"
    }
   }
  },
  {
   "cell_type": "markdown",
   "source": [
    "Calculate the integrated Brier score across all the time range. You can specify the number of points to integral.\n",
    "If not specify, the default setting will use the censored time points obtained from testing set."
   ],
   "metadata": {
    "collapsed": false
   }
  },
  {
   "cell_type": "code",
   "execution_count": 10,
   "outputs": [
    {
     "data": {
      "text/plain": "<Figure size 432x288 with 1 Axes>",
      "image/png": "[encoded data removed]"
     },
     "metadata": {
      "needs_background": "light"
     },
     "output_type": "display_data"
    },
    {
     "name": "stdout",
     "output_type": "stream",
     "text": [
      "Integrated Brier score is 0.15237878267399446.\n"
     ]
    }
   ],
   "source": [
    "ibs = eval.integrated_brier_score(num_points=None, draw_figure=True)\n",
    "print(\"Integrated Brier score is {}.\".format(ibs))"
   ],
   "metadata": {
    "collapsed": false,
    "pycharm": {
     "name": "#%%\n"
    }
   }
  },
  {
   "cell_type": "markdown",
   "source": [
    "Calculate the l1-margin loss using mean survival times obtain from the survival curves as the predicted survival times.\n",
    "You can set `method` as 'Hinge' or 'Uncensored' for different l1 loss calculation."
   ],
   "metadata": {
    "collapsed": false
   }
  },
  {
   "cell_type": "code",
   "execution_count": 11,
   "outputs": [
    {
     "name": "stderr",
     "output_type": "stream",
     "text": [
      "/home/shiang/Documents/GithubRepository/SurvivalEVAL/Evaluations/util.py:187: IntegrationWarning: The occurrence of roundoff error is detected, which prevents \n",
      "  the requested tolerance from being achieved.  The error may be \n",
      "  underestimated.\n",
      "  mean_survival_time, *rest = integrate.quad(_func_to_integral, 0, zero_probability_time,\n"
     ]
    },
    {
     "name": "stdout",
     "output_type": "stream",
     "text": [
      "L1-margin loss is 78.13500262009487.\n"
     ]
    }
   ],
   "source": [
    "l1 = eval.l1_loss(method='Margin', predicted_time_method=\"Mean\")\n",
    "print(\"L1-margin loss is {}.\".format(l1))"
   ],
   "metadata": {
    "collapsed": false,
    "pycharm": {
     "name": "#%%\n"
    }
   }
  },
  {
   "cell_type": "markdown",
   "source": [
    "Run one calibration test at 50% time of the testing set."
   ],
   "metadata": {
    "collapsed": false
   }
  },
  {
   "cell_type": "code",
   "execution_count": 12,
   "outputs": [
    {
     "name": "stdout",
     "output_type": "stream",
     "text": [
      "The model is one-calibrated at time 113.\n"
     ]
    }
   ],
   "source": [
    "t_time = round(np.percentile(durations_test, 50))\n",
    "p_value, ob, pre = eval.one_calibration(target_time=t_time, method=\"DN\")\n",
    "if p_value >= 0.05:\n",
    "    print(\"The model is one-calibrated at time {}.\".format(t_time))\n",
    "else:\n",
    "    print(\"The model is not one-calibrated at time {}.\".format(t_time))"
   ],
   "metadata": {
    "collapsed": false,
    "pycharm": {
     "name": "#%%\n"
    }
   }
  },
  {
   "cell_type": "markdown",
   "source": [
    "Run distribution calibration test."
   ],
   "metadata": {
    "collapsed": false
   }
  },
  {
   "cell_type": "code",
   "execution_count": 13,
   "outputs": [
    {
     "data": {
      "text/plain": "<Figure size 432x288 with 0 Axes>"
     },
     "metadata": {},
     "output_type": "display_data"
    },
    {
     "data": {
      "text/plain": "<Figure size 432x288 with 1 Axes>",
      "image/png": "[encoded data removed]"
     },
     "metadata": {
      "needs_background": "light"
     },
     "output_type": "display_data"
    },
    {
     "name": "stdout",
     "output_type": "stream",
     "text": [
      "The model is d-calibrated!\n"
     ]
    }
   ],
   "source": [
    "p_value_2, bin_statistics = eval.d_calibration()\n",
    "bins = [\"[0, 0.1)\", \"[0.1, 0.2)\", \"[0.2, 0.3)\", \"[0.3, 0.4)\", \"[0.4, 0.5)\", \"[0.5, 0.6)\", \"[0.6, 0.7)\", \"[0.7, 0.8)\",\n",
    "        \"[0.8, 0.9)\", \"[0.9, 1]\"]\n",
    "plt.clf()\n",
    "fig, ax = plt.subplots()\n",
    "ax.bar(bins, bin_statistics)\n",
    "plt.setp(ax.get_xticklabels(), rotation=30)\n",
    "plt.ylabel(\"Counts in bins\")\n",
    "plt.show()\n",
    "if p_value_2 >= 0.05:\n",
    "    print(\"The model is d-calibrated!\")\n",
    "else:\n",
    "    print(\"The model is not d-calibrated!\")"
   ],
   "metadata": {
    "collapsed": false,
    "pycharm": {
     "name": "#%%\n"
    }
   }
  }
 ],
 "metadata": {
  "kernelspec": {
   "display_name": "Python 3",
   "language": "python",
   "name": "python3"
  },
  "language_info": {
   "codemirror_mode": {
    "name": "ipython",
    "version": 2
   },
   "file_extension": ".py",
   "mimetype": "text/x-python",
   "name": "python",
   "nbconvert_exporter": "python",
   "pygments_lexer": "ipython2",
   "version": "2.7.6"
  }
 },
 "nbformat": 4,
 "nbformat_minor": 0
}