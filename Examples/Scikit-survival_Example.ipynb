{
 "cells": [
  {
   "cell_type": "markdown",
   "metadata": {
    "collapsed": true,
    "pycharm": {
     "name": "#%% md\n"
    }
   },
   "source": [
    "# Use SurvivalEVAL for scikit-survival model\n",
    "\n",
    "In this notebook we introduce the use of `ScikitSurvivalEvaluator` in the package to evaluate the performance for a scikit-survival model.\n",
    "The first half of this notebook follows the procedure described in the Scikit-Survival [example](https://github.com/havakv/pycox/blob/master/examples/01_introduction.ipynb).\n",
    "\n",
    "\n",
    "In the following, we will:\n",
    "1. Load the German Breast Cancer Study Group 2 dataset;\n",
    "2. Train the `CoxPH` model using 70% of the data;\n",
    "3. Perform evaluation on the 30% testing set."
   ]
  },
  {
   "cell_type": "code",
   "source": [
    "import numpy as np\n",
    "import matplotlib.pyplot as plt\n",
    "\n",
    "from sksurv.datasets import load_gbsg2\n",
    "from sksurv.linear_model import CoxPHSurvivalAnalysis\n",
    "from sksurv.preprocessing import OneHotEncoder\n",
    "from sksurv.metrics import check_y_survival\n",
    "\n",
    "from Evaluator import ScikitSurvivalEvaluator"
   ],
   "metadata": {
    "collapsed": false,
    "pycharm": {
     "name": "#%%\n"
    }
   },
   "execution_count": 1,
   "outputs": []
  },
  {
   "cell_type": "code",
   "execution_count": null,
   "outputs": [],
   "source": [
    "%matplotlib inline"
   ],
   "metadata": {
    "collapsed": false,
    "pycharm": {
     "name": "#%%\n"
    }
   }
  },
  {
   "cell_type": "markdown",
   "source": [
    "Load and prepare data."
   ],
   "metadata": {
    "collapsed": false
   }
  },
  {
   "cell_type": "code",
   "execution_count": 2,
   "outputs": [],
   "source": [
    "X, y = load_gbsg2()\n",
    "X.loc[:, \"tgrade\"] = X.loc[:, \"tgrade\"].map(len).astype(int)\n",
    "Xt = OneHotEncoder().fit_transform(X)"
   ],
   "metadata": {
    "collapsed": false,
    "pycharm": {
     "name": "#%%\n"
    }
   }
  },
  {
   "cell_type": "markdown",
   "source": [
    "Splitting the data into training/testing set. Training set contains 70% of the data. Testing set contains 30%."
   ],
   "metadata": {
    "collapsed": false,
    "pycharm": {
     "name": "#%% md\n"
    }
   }
  },
  {
   "cell_type": "code",
   "execution_count": 3,
   "outputs": [],
   "source": [
    "n = len(Xt)\n",
    "\n",
    "tr_size = int(n*0.70)\n",
    "\n",
    "Xt_train, Xt_test = Xt.iloc[:tr_size, :], Xt.iloc[tr_size:, :]\n",
    "y_train, y_test = y[:tr_size], y[tr_size:]\n",
    "train_event_indicators, train_event_times = check_y_survival(y_train)\n",
    "test_event_indicators, test_event_times = check_y_survival(y_test)\n"
   ],
   "metadata": {
    "collapsed": false,
    "pycharm": {
     "name": "#%%\n"
    }
   }
  },
  {
   "cell_type": "markdown",
   "source": [
    "Fit a CoxPH model."
   ],
   "metadata": {
    "collapsed": false
   }
  },
  {
   "cell_type": "code",
   "source": [
    "est = CoxPHSurvivalAnalysis(ties=\"efron\").fit(Xt_train, y_train)"
   ],
   "metadata": {
    "collapsed": false,
    "pycharm": {
     "name": "#%%\n"
    }
   },
   "execution_count": 4,
   "outputs": []
  },
  {
   "cell_type": "markdown",
   "source": [
    "Retrieve individual survival functions and get probability of remaining event free from 1 year to 5 years (=1825 days)."
   ],
   "metadata": {
    "collapsed": false
   }
  },
  {
   "cell_type": "code",
   "execution_count": 5,
   "outputs": [],
   "source": [
    "survs = est.predict_survival_function(Xt_test)"
   ],
   "metadata": {
    "collapsed": false,
    "pycharm": {
     "name": "#%%\n"
    }
   }
  },
  {
   "cell_type": "markdown",
   "source": [
    "Build the evaluator. Training set information (`durations_train` and `events_train`) is optional if you don't need Brier score, integrated Brier score, and L1-margin loss."
   ],
   "metadata": {
    "collapsed": false,
    "pycharm": {
     "name": "#%% md\n"
    }
   }
  },
  {
   "cell_type": "code",
   "execution_count": 6,
   "outputs": [],
   "source": [
    "eval = ScikitSurvivalEvaluator(survs, test_event_times, test_event_indicators, train_event_times, train_event_indicators)"
   ],
   "metadata": {
    "collapsed": false,
    "pycharm": {
     "name": "#%%\n"
    }
   }
  },
  {
   "cell_type": "markdown",
   "source": [
    "Calculate the concordance index. `ties` argument indicates the way ties should be handled.\n",
    "`predicted_time_method` argument indicates whether using median or mean survival time as the predicted time."
   ],
   "metadata": {
    "collapsed": false
   }
  },
  {
   "cell_type": "code",
   "execution_count": 7,
   "outputs": [
    {
     "name": "stdout",
     "output_type": "stream",
     "text": [
      "Concordance index is 0.6612887062831947, meaning that the model can correctly order 6599 pairs among 9979 comparable pairs in the testing set.\n"
     ]
    }
   ],
   "source": [
    "cindex, concordant_pairs, total_pairs = eval.concordance(ties=\"None\", predicted_time_method=\"Median\")\n",
    "print(\"Concordance index is {}, meaning that the model can correctly order {} pairs among {} comparable pairs \"\n",
    "      \"in the testing set.\".format(cindex, concordant_pairs, total_pairs))"
   ],
   "metadata": {
    "collapsed": false,
    "pycharm": {
     "name": "#%%\n"
    }
   }
  },
  {
   "cell_type": "markdown",
   "source": [
    "Calculate the Brier score at time 175."
   ],
   "metadata": {
    "collapsed": false
   }
  },
  {
   "cell_type": "code",
   "execution_count": 8,
   "outputs": [
    {
     "name": "stdout",
     "output_type": "stream",
     "text": [
      "Brier score at time 175 is 0.009235037097327975.\n"
     ]
    }
   ],
   "source": [
    "bs = eval.brier_score(target_time=175)\n",
    "print(\"Brier score at time 175 is {}.\".format(bs))"
   ],
   "metadata": {
    "collapsed": false,
    "pycharm": {
     "name": "#%%\n"
    }
   }
  },
  {
   "cell_type": "markdown",
   "source": [
    "Calculate the integrated Brier score across all the time range. You can specify the number of points to integral.\n",
    "If not specify, the default setting will use the censored time points obtained from testing set."
   ],
   "metadata": {
    "collapsed": false
   }
  },
  {
   "cell_type": "code",
   "execution_count": 9,
   "outputs": [
    {
     "data": {
      "text/plain": "<Figure size 640x480 with 1 Axes>",
      "image/png": "[encoded data removed]"
     },
     "metadata": {},
     "output_type": "display_data"
    },
    {
     "name": "stdout",
     "output_type": "stream",
     "text": [
      "Integrated Brier score is 0.1282738154931309.\n"
     ]
    }
   ],
   "source": [
    "ibs = eval.integrated_brier_score(num_points=None, draw_figure=True)\n",
    "print(\"Integrated Brier score is {}.\".format(ibs))"
   ],
   "metadata": {
    "collapsed": false,
    "pycharm": {
     "name": "#%%\n"
    }
   }
  },
  {
   "cell_type": "markdown",
   "source": [
    "Calculate the l1-margin loss using mean survival times obtain from the survival curves as the predicted survival times.\n",
    "You can set `method` as 'Hinge' or 'Uncensored' for different l1 loss calculation."
   ],
   "metadata": {
    "collapsed": false
   }
  },
  {
   "cell_type": "code",
   "execution_count": 11,
   "outputs": [
    {
     "name": "stdout",
     "output_type": "stream",
     "text": [
      "L1-margin loss is 1492.146010348475.\n"
     ]
    }
   ],
   "source": [
    "l1 = eval.l1_loss(method='Margin', predicted_time_method=\"Median\")\n",
    "print(\"L1-margin loss is {}.\".format(l1))"
   ],
   "metadata": {
    "collapsed": false,
    "pycharm": {
     "name": "#%%\n"
    }
   }
  },
  {
   "cell_type": "markdown",
   "source": [
    "Run one calibration test at 50-percentile-time among all the instances in testing set."
   ],
   "metadata": {
    "collapsed": false
   }
  },
  {
   "cell_type": "code",
   "execution_count": 10,
   "outputs": [
    {
     "name": "stdout",
     "output_type": "stream",
     "text": [
      "The model is one-calibrated at time 858.\n"
     ]
    }
   ],
   "source": [
    "t_time = round(np.percentile(test_event_times, 50))\n",
    "p_value, ob, pre = eval.one_calibration(target_time=t_time, method=\"DN\")\n",
    "if p_value >= 0.05:\n",
    "    print(\"The model is one-calibrated at time {}.\".format(t_time))\n",
    "else:\n",
    "    print(\"The model is not one-calibrated at time {}.\".format(t_time))"
   ],
   "metadata": {
    "collapsed": false,
    "pycharm": {
     "name": "#%%\n"
    }
   }
  },
  {
   "cell_type": "markdown",
   "source": [
    "Run distribution calibration test."
   ],
   "metadata": {
    "collapsed": false
   }
  },
  {
   "cell_type": "code",
   "execution_count": 12,
   "outputs": [
    {
     "data": {
      "text/plain": "<Figure size 640x480 with 0 Axes>"
     },
     "metadata": {},
     "output_type": "display_data"
    },
    {
     "data": {
      "text/plain": "<Figure size 640x480 with 1 Axes>",
      "image/png": "[encoded data removed]"
     },
     "metadata": {},
     "output_type": "display_data"
    },
    {
     "name": "stdout",
     "output_type": "stream",
     "text": [
      "The model is d-calibrated!\n"
     ]
    }
   ],
   "source": [
    "p_value_2, bin_statistics = eval.d_calibration()\n",
    "bins = [\"[0, 0.1)\", \"[0.1, 0.2)\", \"[0.2, 0.3)\", \"[0.3, 0.4)\", \"[0.4, 0.5)\", \"[0.5, 0.6)\", \"[0.6, 0.7)\", \"[0.7, 0.8)\",\n",
    "        \"[0.8, 0.9)\", \"[0.9, 1]\"]\n",
    "plt.clf()\n",
    "fig, ax = plt.subplots()\n",
    "ax.bar(bins, bin_statistics)\n",
    "plt.setp(ax.get_xticklabels(), rotation=30)\n",
    "plt.ylabel(\"Counts in bins\")\n",
    "plt.show()\n",
    "if p_value_2 >= 0.05:\n",
    "    print(\"The model is d-calibrated!\")\n",
    "else:\n",
    "    print(\"The model is not d-calibrated!\")"
   ],
   "metadata": {
    "collapsed": false,
    "pycharm": {
     "name": "#%%\n"
    }
   }
  }
 ],
 "metadata": {
  "kernelspec": {
   "display_name": "Python 3",
   "language": "python",
   "name": "python3"
  },
  "language_info": {
   "codemirror_mode": {
    "name": "ipython",
    "version": 2
   },
   "file_extension": ".py",
   "mimetype": "text/x-python",
   "name": "python",
   "nbconvert_exporter": "python",
   "pygments_lexer": "ipython2",
   "version": "2.7.6"
  }
 },
 "nbformat": 4,
 "nbformat_minor": 0
}