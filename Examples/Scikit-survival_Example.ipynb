{
 "cells": [
  {
   "cell_type": "markdown",
   "metadata": {
    "collapsed": true,
    "pycharm": {
     "name": "#%% md\n"
    }
   },
   "source": [
    "# Use SurvivalEVAL for scikit-survival model\n",
    "\n",
    "In this notebook we introduce the use of `ScikitSurvivalEvaluator` in the package to evaluate the performance for a scikit-survival model.\n",
    "The first half of this notebook follows the procedure described in the Scikit-Survival [example](https://github.com/havakv/pycox/blob/master/examples/01_introduction.ipynb).\n",
    "\n",
    "\n",
    "In the following, we will:\n",
    "1. Load the German Breast Cancer Study Group 2 dataset;\n",
    "2. Train the `CoxPH` model using 70% of the data;\n",
    "3. Perform evaluation on the 30% testing set."
   ]
  },
  {
   "cell_type": "markdown",
   "source": [
    "## Import Dependencies"
   ],
   "metadata": {
    "collapsed": false
   }
  },
  {
   "cell_type": "code",
   "source": [
    "import numpy as np\n",
    "import matplotlib.pyplot as plt\n",
    "\n",
    "from sksurv.datasets import load_gbsg2\n",
    "from sksurv.linear_model import CoxPHSurvivalAnalysis\n",
    "from sksurv.preprocessing import OneHotEncoder\n",
    "from sksurv.metrics import check_y_survival\n",
    "\n",
    "from Evaluator import ScikitSurvivalEvaluator"
   ],
   "metadata": {
    "collapsed": false,
    "pycharm": {
     "name": "#%%\n"
    }
   },
   "execution_count": 1,
   "outputs": []
  },
  {
   "cell_type": "code",
   "execution_count": 2,
   "outputs": [],
   "source": [
    "%matplotlib inline"
   ],
   "metadata": {
    "collapsed": false,
    "pycharm": {
     "name": "#%%\n"
    }
   }
  },
  {
   "cell_type": "markdown",
   "source": [
    "## Load and prepare data."
   ],
   "metadata": {
    "collapsed": false
   }
  },
  {
   "cell_type": "code",
   "execution_count": 3,
   "outputs": [],
   "source": [
    "X, y = load_gbsg2()\n",
    "X.loc[:, \"tgrade\"] = X.loc[:, \"tgrade\"].map(len).astype(int)\n",
    "Xt = OneHotEncoder().fit_transform(X)"
   ],
   "metadata": {
    "collapsed": false,
    "pycharm": {
     "name": "#%%\n"
    }
   }
  },
  {
   "cell_type": "markdown",
   "source": [],
   "metadata": {
    "collapsed": false,
    "pycharm": {
     "name": "#%% md\n"
    }
   }
  },
  {
   "cell_type": "code",
   "execution_count": 4,
   "outputs": [],
   "source": [
    "n = len(Xt)\n",
    "\n",
    "tr_size = int(n*0.70)\n",
    "\n",
    "Xt_train, Xt_test = Xt.iloc[:tr_size, :], Xt.iloc[tr_size:, :]\n",
    "y_train, y_test = y[:tr_size], y[tr_size:]\n",
    "train_event_indicators, train_event_times = check_y_survival(y_train)\n",
    "test_event_indicators, test_event_times = check_y_survival(y_test)\n"
   ],
   "metadata": {
    "collapsed": false,
    "pycharm": {
     "name": "#%%\n"
    }
   }
  },
  {
   "cell_type": "markdown",
   "source": [
    "## Build the model and train it."
   ],
   "metadata": {
    "collapsed": false
   }
  },
  {
   "cell_type": "code",
   "source": [
    "est = CoxPHSurvivalAnalysis(ties=\"efron\").fit(Xt_train, y_train)"
   ],
   "metadata": {
    "collapsed": false,
    "pycharm": {
     "name": "#%%\n"
    }
   },
   "execution_count": 5,
   "outputs": []
  },
  {
   "cell_type": "markdown",
   "source": [
    "## Predict individual survival functions\n",
    "Get probability of remaining event free from 1 year to 5 years (=1825 days)."
   ],
   "metadata": {
    "collapsed": false
   }
  },
  {
   "cell_type": "code",
   "execution_count": 6,
   "outputs": [],
   "source": [
    "survs = est.predict_survival_function(Xt_test)"
   ],
   "metadata": {
    "collapsed": false,
    "pycharm": {
     "name": "#%%\n"
    }
   }
  },
  {
   "cell_type": "markdown",
   "source": [
    "## Build the evaluator.\n",
    "Some arguments includes:\n",
    "1. Training set information (`durations_train` and `events_train`) is optional if you don't need Brier score, integrated Brier score, and L1-margin loss.\n",
    "2. `predicted_time_method` argument indicates whether using median or mean survival time as the predicted time."
   ],
   "metadata": {
    "collapsed": false,
    "pycharm": {
     "name": "#%% md\n"
    }
   }
  },
  {
   "cell_type": "code",
   "execution_count": 7,
   "outputs": [],
   "source": [
    "eval = ScikitSurvivalEvaluator(survs, test_event_times, test_event_indicators, train_event_times, train_event_indicators, predict_time_method=\"Median\")"
   ],
   "metadata": {
    "collapsed": false,
    "pycharm": {
     "name": "#%%\n"
    }
   }
  },
  {
   "cell_type": "markdown",
   "source": [
    "## Calculate the concordance index.\n",
    "`ties` argument indicates the way ties should be handled.\n",
    "`ties=\"None\"` will throw out all ties in true survival time and all ties in predict survival times (risk scores).\n",
    "`ties=\"Time\"` includes ties in true survival time but removes ties in predict survival times (risk scores).\n",
    "`ties=\"Risk\"` includes ties in predict survival times (risk scores) but not in true survival time.\n",
    "`ties=\"All\"` includes all ties."
   ],
   "metadata": {
    "collapsed": false
   }
  },
  {
   "cell_type": "code",
   "execution_count": 8,
   "outputs": [
    {
     "name": "stdout",
     "output_type": "stream",
     "text": [
      "Concordance index is 0.6612887062831947, meaning that the model can correctly order 6599.0 pairs among 9979.0 comparable pairs in the testing set.\n"
     ]
    }
   ],
   "source": [
    "cindex, concordant_pairs, total_pairs = eval.concordance(ties=\"None\")\n",
    "print(\"Concordance index is {}, meaning that the model can correctly order {} pairs among {} comparable pairs \"\n",
    "      \"in the testing set.\".format(cindex, concordant_pairs, total_pairs))"
   ],
   "metadata": {
    "collapsed": false,
    "pycharm": {
     "name": "#%%\n"
    }
   }
  },
  {
   "cell_type": "markdown",
   "source": [
    "## Calculate the Brier score\n",
    "Target time is at time 175. You could use any time as preferred."
   ],
   "metadata": {
    "collapsed": false
   }
  },
  {
   "cell_type": "code",
   "execution_count": 9,
   "outputs": [
    {
     "name": "stdout",
     "output_type": "stream",
     "text": [
      "Brier score at time 175 is 0.009235037097327974.\n"
     ]
    }
   ],
   "source": [
    "bs = eval.brier_score(target_time=175)\n",
    "print(\"Brier score at time 175 is {}.\".format(bs))"
   ],
   "metadata": {
    "collapsed": false,
    "pycharm": {
     "name": "#%%\n"
    }
   }
  },
  {
   "cell_type": "markdown",
   "source": [
    "## Calculate the integrated Brier score (IBS)\n",
    "You can specify the number of points `num_points` to integral. If it is not specify, the default setting will use the censored time points obtained from testing set."
   ],
   "metadata": {
    "collapsed": false
   }
  },
  {
   "cell_type": "code",
   "execution_count": 10,
   "outputs": [
    {
     "data": {
      "text/plain": "<Figure size 432x288 with 1 Axes>",
      "image/png": "[encoded data removed]"
     },
     "metadata": {
      "needs_background": "light"
     },
     "output_type": "display_data"
    },
    {
     "name": "stdout",
     "output_type": "stream",
     "text": [
      "Integrated Brier score is 0.12827381547056485.\n"
     ]
    }
   ],
   "source": [
    "ibs = eval.integrated_brier_score(num_points=None, draw_figure=True)\n",
    "print(\"Integrated Brier score is {}.\".format(ibs))"
   ],
   "metadata": {
    "collapsed": false,
    "pycharm": {
     "name": "#%%\n"
    }
   }
  },
  {
   "cell_type": "markdown",
   "source": [
    "# Calculate the L1-margin (MAE-margin) loss\n",
    "You can set `method` as `Hinge`, `Uncensored`, `Margin`, `IPCW-v1`, `IPCW-v2`, or `Pseudo_obs` for different l1 loss calculation."
   ],
   "metadata": {
    "collapsed": false
   }
  },
  {
   "cell_type": "code",
   "execution_count": 11,
   "outputs": [
    {
     "name": "stdout",
     "output_type": "stream",
     "text": [
      "L1-margin loss is 1393.0816773738882.\n"
     ]
    }
   ],
   "source": [
    "l1 = eval.l1_loss(method='Margin')\n",
    "print(\"L1-margin loss is {}.\".format(l1))"
   ],
   "metadata": {
    "collapsed": false,
    "pycharm": {
     "name": "#%%\n"
    }
   }
  },
  {
   "cell_type": "markdown",
   "source": [
    "## Calculate the 1-Calibration\n",
    "Run one calibration test at 50% time of the testing set."
   ],
   "metadata": {
    "collapsed": false
   }
  },
  {
   "cell_type": "code",
   "execution_count": 12,
   "outputs": [
    {
     "name": "stdout",
     "output_type": "stream",
     "text": [
      "The model is one-calibrated at time 858.\n"
     ]
    }
   ],
   "source": [
    "t_time = round(np.percentile(test_event_times, 50))\n",
    "p_value, ob, exp = eval.one_calibration(target_time=t_time, method=\"DN\")\n",
    "if p_value >= 0.05:\n",
    "    print(\"The model is one-calibrated at time {}.\".format(t_time))\n",
    "else:\n",
    "    print(\"The model is not one-calibrated at time {}.\".format(t_time))"
   ],
   "metadata": {
    "collapsed": false,
    "pycharm": {
     "name": "#%%\n"
    }
   }
  },
  {
   "cell_type": "markdown",
   "source": [
    "###  Plot the histogram for 1-Calibration.\n",
    "As presented in [Effective Ways to Build and Evaluate Individual Survival Distributions](https://jmlr.csail.mit.edu/papers/v21/18-772.html)"
   ],
   "metadata": {
    "collapsed": false
   }
  },
  {
   "cell_type": "code",
   "execution_count": 13,
   "outputs": [],
   "source": [
    "# Reverse the bins to let it start from small to large observations\n",
    "ob.reverse()\n",
    "exp.reverse()"
   ],
   "metadata": {
    "collapsed": false,
    "pycharm": {
     "name": "#%%\n"
    }
   }
  },
  {
   "cell_type": "code",
   "execution_count": 14,
   "outputs": [
    {
     "data": {
      "text/plain": "<Figure size 432x288 with 1 Axes>",
      "image/png": "[encoded data removed]"
     },
     "metadata": {
      "needs_background": "light"
     },
     "output_type": "display_data"
    }
   ],
   "source": [
    "bins = np.arange(10)\n",
    "plt.bar(bins - 0.15, ob, width=0.3, label=\"Observed\")\n",
    "plt.bar(bins + 0.15, exp, width=0.3, label=\"Expected\")\n",
    "\n",
    "plt.xlabel('Bin')\n",
    "plt.ylabel('Survival Probability')\n",
    "plt.text(0.5, 0.5, r'$p-value = {:.3f}$'.format(p_value), verticalalignment='top', horizontalalignment='left', fontsize=12, color='Black')\n",
    "plt.legend()\n",
    "plt.show()"
   ],
   "metadata": {
    "collapsed": false,
    "pycharm": {
     "name": "#%%\n"
    }
   }
  },
  {
   "cell_type": "markdown",
   "source": [
    "## Calculate the distribution calibration (D-Calibration)"
   ],
   "metadata": {
    "collapsed": false
   }
  },
  {
   "cell_type": "code",
   "execution_count": 15,
   "outputs": [
    {
     "name": "stdout",
     "output_type": "stream",
     "text": [
      "The model is d-calibrated!\n"
     ]
    }
   ],
   "source": [
    "p_value_2, bin_statistics = eval.d_calibration()\n",
    "if p_value_2 >= 0.05:\n",
    "    print(\"The model is d-calibrated!\")\n",
    "else:\n",
    "    print(\"The model is not d-calibrated!\")"
   ],
   "metadata": {
    "collapsed": false,
    "pycharm": {
     "name": "#%%\n"
    }
   }
  },
  {
   "cell_type": "code",
   "execution_count": 16,
   "outputs": [
    {
     "data": {
      "text/plain": "array([0.11772446, 0.10876726, 0.09986195, 0.09651766, 0.10408213,\n       0.08713236, 0.09791648, 0.09659758, 0.09812724, 0.09327287])"
     },
     "execution_count": 16,
     "metadata": {},
     "output_type": "execute_result"
    }
   ],
   "source": [
    "# An ideal model should have bin statistics equally distributed. That means 0.1 for each value since we are using 10 bins.\n",
    "bin_statistics /= bin_statistics.sum()\n",
    "bin_statistics"
   ],
   "metadata": {
    "collapsed": false,
    "pycharm": {
     "name": "#%%\n"
    }
   }
  },
  {
   "cell_type": "markdown",
   "source": [
    "### Plot the sideways histogram of D-Calibration\n",
    "As presented in [Effective Ways to Build and Evaluate Individual Survival Distributions](https://jmlr.csail.mit.edu/papers/v21/18-772.html)"
   ],
   "metadata": {
    "collapsed": false
   }
  },
  {
   "cell_type": "code",
   "execution_count": 17,
   "outputs": [
    {
     "data": {
      "text/plain": "<Figure size 432x288 with 1 Axes>",
      "image/png": "[encoded data removed]"
     },
     "metadata": {
      "needs_background": "light"
     },
     "output_type": "display_data"
    }
   ],
   "source": [
    "bars = ('[0.0, 0.1)', '[0.1, 0.2)', '[0.2, 0.3)', '[0.3, 0.4)', '[0.4, 0.5)',\n",
    "        '[0.5, 0.6)', '[0.6, 0.7)', '[0.7, 0.8)', '[0.8, 0.9)', '[0.9, 1.0]')\n",
    "y_pos = np.arange(len(bars))\n",
    "\n",
    "fig, ax = plt.subplots()\n",
    "ax.barh(y_pos, bin_statistics)\n",
    "ax.plot(np.ones(len(bars)+2) * 0.1, np.arange(-1, len(bars)+1),  '--', color=\"black\")\n",
    "ax.invert_yaxis()  # labels read top-to-bottom\n",
    "ax.set_xlabel('Proportion in Bin')\n",
    "ax.set_ylabel('Bins')\n",
    "ax.text(0.14, 0.5, r'$p-value = {:.2f}$'.format(p_value_2), verticalalignment='top', horizontalalignment='right', fontsize=10, color='Black')\n",
    "plt.ylim([-0.8, 9.8])\n",
    "plt.yticks(y_pos, bars)\n",
    "plt.show()"
   ],
   "metadata": {
    "collapsed": false,
    "pycharm": {
     "name": "#%%\n"
    }
   }
  },
  {
   "cell_type": "markdown",
   "source": [
    "### Plot the Q-Q plot of D-Calibration\n",
    "As presented in [Countdown Regression: Sharp and Calibrated Survival Predictions](https://proceedings.mlr.press/v115/avati20a.html) and [Inverse-Weighted Survival Games](https://arxiv.org/abs/2111.08175)"
   ],
   "metadata": {
    "collapsed": false
   }
  },
  {
   "cell_type": "code",
   "execution_count": 18,
   "outputs": [
    {
     "data": {
      "text/plain": "<Figure size 432x288 with 1 Axes>",
      "image/png": "[encoded data removed]"
     },
     "metadata": {
      "needs_background": "light"
     },
     "output_type": "display_data"
    }
   ],
   "source": [
    "default = np.linspace(0, 1, 11)\n",
    "plt.plot(default, default, linestyle='dashed', label=\"x=y\")\n",
    "\n",
    "fraction = np.concatenate((np.array([0]), bin_statistics))\n",
    "plt.plot(default, fraction.cumsum(), 'o-', label=\"DeepHit\")\n",
    "\n",
    "plt.xlabel(\"Cumulative Risk\")\n",
    "plt.ylabel(\"Observed Cumulative Fraction\")\n",
    "plt.legend()\n",
    "plt.show()"
   ],
   "metadata": {
    "collapsed": false,
    "pycharm": {
     "name": "#%%\n"
    }
   }
  },
  {
   "cell_type": "code",
   "execution_count": null,
   "outputs": [],
   "source": [],
   "metadata": {
    "collapsed": false,
    "pycharm": {
     "name": "#%%\n"
    }
   }
  }
 ],
 "metadata": {
  "kernelspec": {
   "display_name": "Python 3",
   "language": "python",
   "name": "python3"
  },
  "language_info": {
   "codemirror_mode": {
    "name": "ipython",
    "version": 2
   },
   "file_extension": ".py",
   "mimetype": "text/x-python",
   "name": "python",
   "nbconvert_exporter": "python",
   "pygments_lexer": "ipython2",
   "version": "2.7.6"
  }
 },
 "nbformat": 4,
 "nbformat_minor": 0
}