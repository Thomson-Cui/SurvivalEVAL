{
 "cells": [
  {
   "cell_type": "markdown",
   "source": [
    "# Use SurvivalEVAL for PySurvival and DSM models\n",
    "\n",
    "In this notebook we introduce the use of `SurvivalEvaluator` in the package to evaluate the performance for a PySurvival and DSM model.\n",
    "The first half of this notebook follows the procedure described in the PySurvival [example](https://square.github.io/pysurvival/models/neural_mtlr.html).\n",
    "The [DSM models](https://autonlab.org/auton-survival/) have survival curves with the same format of PySurvival. It's trivial to adapt this code to DSM models.\n",
    "\n",
    "\n",
    "In the following, we will:\n",
    "1. Load a synthetic dataset generated from a nonlinear log-logistic parametric model;\n",
    "2. Train the `MTLR` model using 70% of the data;\n",
    "3. Perform evaluation on the 30% testing set."
   ],
   "metadata": {
    "collapsed": false
   }
  },
  {
   "cell_type": "code",
   "execution_count": null,
   "metadata": {
    "collapsed": true
   },
   "outputs": [],
   "source": [
    "# TODO"
   ]
  }
 ],
 "metadata": {
  "kernelspec": {
   "display_name": "Python 3",
   "language": "python",
   "name": "python3"
  },
  "language_info": {
   "codemirror_mode": {
    "name": "ipython",
    "version": 2
   },
   "file_extension": ".py",
   "mimetype": "text/x-python",
   "name": "python",
   "nbconvert_exporter": "python",
   "pygments_lexer": "ipython2",
   "version": "2.7.6"
  }
 },
 "nbformat": 4,
 "nbformat_minor": 0
}